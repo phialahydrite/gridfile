{
 "cells": [
  {
   "cell_type": "markdown",
   "metadata": {},
   "source": [
    "# Converting NumPy arrays into gridfiles for GMT and netCDF4\n",
    "- Simple function to write either a native Generic Mapping Tools (GMT) gridfile or a netCDF-compatible "
   ]
  },
  {
   "cell_type": "code",
   "execution_count": 1,
   "metadata": {},
   "outputs": [],
   "source": [
    "from utils import *\n",
    "import numpy as np\n",
    "import matplotlib.pyplot as plt\n",
    "import struct\n",
    "from netCDF4 import Dataset"
   ]
  },
  {
   "cell_type": "markdown",
   "metadata": {},
   "source": [
    "Generate a simple array of random numbers to save"
   ]
  },
  {
   "cell_type": "code",
   "execution_count": 2,
   "metadata": {},
   "outputs": [
    {
     "data": {
      "text/plain": [
       "<matplotlib.image.AxesImage at 0x7f59e3b968e0>"
      ]
     },
     "execution_count": 2,
     "metadata": {},
     "output_type": "execute_result"
    },
    {
     "data": {
      "image/png": "[encoded data removed]",
      "text/plain": [
       "<Figure size 432x288 with 1 Axes>"
      ]
     },
     "metadata": {
      "needs_background": "light"
     },
     "output_type": "display_data"
    }
   ],
   "source": [
    "noise = np.random.random((50,50))\n",
    "plt.imshow(noise)"
   ]
  },
  {
   "cell_type": "markdown",
   "metadata": {},
   "source": [
    "Save array as either type of grid file"
   ]
  },
  {
   "cell_type": "code",
   "execution_count": 3,
   "metadata": {},
   "outputs": [],
   "source": [
    "def array_to_grd(filename,\n",
    "                 array, \n",
    "                 x_vals=None,y_vals=None, #data\n",
    "                 x_name=None,y_name=None, #labels\n",
    "                 bin_mask=False, # integer 1-0 mask at pixels\n",
    "                 netcdf_write=False, # write standard NetCDF grid\n",
    "                 native_gmt=False, # write native GMT binary\n",
    "                 slice_array=False, spacing=2, # subsample options\n",
    "                 xunits = 'x [unitless]', #x-data name\n",
    "                 yunits = 'y [unitless]', #z-data name\n",
    "                 zunits = 'z [unitless]', #z-data name\n",
    "                 title = 'arbitrary data',\n",
    "                 cmd = 'Generated by a custom Python function',\n",
    "                 remark = 'None'):\n",
    "    '''\n",
    "    Write 2D array to a COORDS-compliant NETCDF4 .grd file, \n",
    "        compatible with GMT. Useful to make binary (0-1) masks to multiply \n",
    "        against GMT-generated .grd files.\n",
    "    Allows for every [spacing]-th point to be sampled, useful for decreasing\n",
    "        filesize if all elements of array aren't needed.\n",
    "    Assumes and image-like coordinate system, where each (x,y) coordinate\n",
    "        is a pixel, unless exact (x,y) coordinates are given [x_vals,y_vals].\n",
    "    Allows for a GMT-native .grd file to be written with custom dimension and\n",
    "        field names, or a modern netCDF4 HDF5 file to be created.\n",
    "    \n",
    "    Partially modified from:\n",
    "        https://github.com/usgs/MapIO/blob/master/mapio/gmt.py\n",
    "    \n",
    "    TODO: \n",
    "        - figure out array convention for correct plotting direction in GMT\n",
    "    '''\n",
    "    # subsample array, every [spacing] points\n",
    "    if x_vals is None or y_vals is None:\n",
    "        if slice_array:\n",
    "            xcoords = range(array.shape[1])[::spacing]\n",
    "            ycoords = range(array.shape[0])[::spacing]\n",
    "            array = array[::spacing,::spacing]\n",
    "        else:\n",
    "            xcoords = range(array.shape[1])\n",
    "            ycoords = range(array.shape[0])      \n",
    "    else:\n",
    "        if slice_array:\n",
    "            xcoords = x_vals[::spacing]\n",
    "            ycoords = y_vals[::spacing]\n",
    "            array = array[::spacing,::spacing]\n",
    "        else:\n",
    "            xcoords = x_vals\n",
    "            ycoords = y_vals   \n",
    "    if netcdf_write:\n",
    "        # create and open netcdf file\n",
    "        gmt_file = Dataset(filename, 'w', format='NETCDF4')\n",
    "        # if no alternative dimension names given, set default\n",
    "        if not x_name or not y_name:\n",
    "            x_name='x'\n",
    "            y_name='y'\n",
    "        # dimensions of file, with an unspecified shape for z\n",
    "        gmt_file.createDimension(x_name, array.shape[1])\n",
    "        gmt_file.createDimension(y_name, array.shape[0])\n",
    "        gmt_file.createDimension('z', None)\n",
    "        # variables, with predefined dimensions, according to swapped default GMT \n",
    "        #   name conventions for \"x\" and \"y\" dimensions\n",
    "        if bin_mask: #integer ones-and-zeros, at each pixel\n",
    "            X = gmt_file.createVariable(x_name, 'i4', (x_name,))\n",
    "            Y = gmt_file.createVariable(y_name, 'i4', (y_name,))\n",
    "            Z = gmt_file.createVariable('z', 'i1', (y_name, x_name))\n",
    "        else: #simple 32-bit float\n",
    "            X = gmt_file.createVariable(x_name, 'f', (x_name,))\n",
    "            Y = gmt_file.createVariable(y_name, 'f', (y_name,))\n",
    "            Z = gmt_file.createVariable('z',  'f', (y_name, x_name))\n",
    "            xcoords = np.float32(xcoords)\n",
    "            ycoords = np.float32(ycoords)\n",
    "            array = np.float32(array)\n",
    "        # data, with x and y pixel locations, and the array with min and max\n",
    "        X[:] = xcoords\n",
    "        Y[:] = ycoords\n",
    "        Z[:,:] = array\n",
    "        Z.actual_range = np.array((np.nanmin(array),np.nanmax(array)))\n",
    "        # close file\n",
    "        gmt_file.close()\n",
    "    # GMT-native format, with custom labels\n",
    "    # see GMT API documentation:\n",
    "    #    http://gmt.soest.hawaii.edu/doc/5.4.2/GMT_API.html#gmt-grids\n",
    "    elif native_gmt: \n",
    "        gmt_file = open(filename,'wb')\n",
    "        gmt_file.write(struct.pack('I',array.shape[1])) #ncols\n",
    "        gmt_file.write(struct.pack('I',array.shape[0])) #nrows\n",
    "        gmt_file.write(struct.pack('I',0)) #node offset, 0=gridline, 1=pixel\n",
    "        gmt_file.write(struct.pack('d',np.nanmin(xcoords))) #x-min\n",
    "        gmt_file.write(struct.pack('d',np.nanmax(xcoords))) #y-min\n",
    "        gmt_file.write(struct.pack('d',np.nanmin(ycoords))) #y-min\n",
    "        gmt_file.write(struct.pack('d',np.nanmax(ycoords))) #y-max\n",
    "        gmt_file.write(struct.pack('d',np.nanmin(array))) #z-min\n",
    "        gmt_file.write(struct.pack('d',np.nanmax(array))) #z-max\n",
    "        gmt_file.write(struct.pack('d',np.diff(xcoords).mean())) #dx\n",
    "        gmt_file.write(struct.pack('d',np.diff(ycoords).mean())) #dy\n",
    "        gmt_file.write(struct.pack('d',1)) #z scale factor\n",
    "        gmt_file.write(struct.pack('d',0)) #z offset\n",
    "        # LABELS, cropped to max char length for required GMT header format\n",
    "        xpad = [0 for i in range(0,80-len(xunits))]\n",
    "        ypad = [0 for i in range(0,80-len(yunits))]\n",
    "        zpad = [0 for i in range(0,80-len(zunits))]\n",
    "        tpad = [0 for i in range(0,80-len(title))]\n",
    "        cpad = [0 for i in range(0,320-len(cmd))]\n",
    "        rpad = [0 for i in range(0,160-len(remark))]\n",
    "        xfmt = '%ib' % (80-len(xunits))\n",
    "        yfmt = '%ib' % (80-len(yunits))\n",
    "        zfmt = '%ib' % (80-len(zunits))\n",
    "        tfmt = '%ib' % (80-len(title))\n",
    "        cfmt = '%ib' % (320-len(cmd))\n",
    "        rfmt = '%ib' % (160-len(remark))\n",
    "        gmt_file.write(xunits.encode()) \n",
    "        gmt_file.write(struct.pack(xfmt,*xpad))\n",
    "        gmt_file.write(yunits.encode())\n",
    "        gmt_file.write(struct.pack(yfmt,*ypad))\n",
    "        gmt_file.write(zunits.encode())\n",
    "        gmt_file.write(struct.pack(zfmt,*zpad))\n",
    "        gmt_file.write(title.encode())\n",
    "        gmt_file.write(struct.pack(tfmt,*tpad))\n",
    "        gmt_file.write(cmd.encode())\n",
    "        gmt_file.write(struct.pack(cfmt,*cpad))\n",
    "        gmt_file.write(remark.encode())\n",
    "        gmt_file.write(struct.pack(rfmt,*rpad))\n",
    "        nrows,ncols = array.shape\n",
    "        sfmt = '%i%s' % (nrows*ncols,array.dtype.kind)\n",
    "        # write data after flipping, due to how data is written to file and\n",
    "        #   read by GMT as a column of data\n",
    "        gmt_file.write(struct.pack(sfmt,*np.flipud(array).flatten()))\n",
    "        gmt_file.close()\n",
    "    else:\n",
    "        raise Exception('Please specify method of gridfile creation.')"
   ]
  },
  {
   "cell_type": "markdown",
   "metadata": {},
   "source": [
    "# Save, load and plot native GMT .grd file"
   ]
  },
  {
   "cell_type": "code",
   "execution_count": 4,
   "metadata": {},
   "outputs": [],
   "source": [
    "array_to_grd('test.grd',noise,native_gmt=True)"
   ]
  },
  {
   "cell_type": "markdown",
   "metadata": {},
   "source": [
    "Use the following command in GMT 6 to make a quick plot of the array.\n",
    "\n",
    "```gmt grdimage test.grd -JX1i+ -I+ -png noise```\n",
    "\n",
    "![](noise.png)"
   ]
  },
  {
   "cell_type": "markdown",
   "metadata": {},
   "source": [
    "# Save, load, and plot a netCDF4 file"
   ]
  },
  {
   "cell_type": "code",
   "execution_count": 5,
   "metadata": {},
   "outputs": [],
   "source": [
    "array_to_grd('test.nc',noise,netcdf_write=True)"
   ]
  },
  {
   "cell_type": "code",
   "execution_count": 6,
   "metadata": {},
   "outputs": [],
   "source": [
    "import netCDF4\n",
    "data = netCDF4.Dataset('test.nc')"
   ]
  },
  {
   "cell_type": "code",
   "execution_count": 7,
   "metadata": {},
   "outputs": [
    {
     "data": {
      "text/plain": [
       "<matplotlib.image.AxesImage at 0x7f59e329afd0>"
      ]
     },
     "execution_count": 7,
     "metadata": {},
     "output_type": "execute_result"
    },
    {
     "data": {
      "image/png": "[encoded data removed]",
      "text/plain": [
       "<Figure size 432x288 with 1 Axes>"
      ]
     },
     "metadata": {
      "needs_background": "light"
     },
     "output_type": "display_data"
    }
   ],
   "source": [
    "noise_retrieved = data['z'][:]\n",
    "plt.imshow(noise_retrieved)"
   ]
  }
 ],
 "metadata": {
  "kernelspec": {
   "display_name": "Python 3 (ipykernel)",
   "language": "python",
   "name": "python3"
  },
  "language_info": {
   "codemirror_mode": {
    "name": "ipython",
    "version": 3
   },
   "file_extension": ".py",
   "mimetype": "text/x-python",
   "name": "python",
   "nbconvert_exporter": "python",
   "pygments_lexer": "ipython3",
   "version": "3.9.12"
  },
  "vscode": {
   "interpreter": {
    "hash": "29c10ea021486b436e1742f485e2067903432cd7b59085d1c41cd49b4d88e5c7"
   }
  }
 },
 "nbformat": 4,
 "nbformat_minor": 2
}
